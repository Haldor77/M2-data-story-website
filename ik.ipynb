{
 "cells": [
  {
   "cell_type": "markdown",
   "id": "eb1d11b4",
   "metadata": {},
   "source": [
    "Introductie  \n",
    "In deze data story onderzoeken we hoe de CO₂-uitstoot van landen (per hoofd én cumulatief) samenhangt met de gezonde levensverwachting bij geboorte. Enerzijds weerspiegelt hoge CO₂-uitstoot vaak welvaart en industrialisatie (en daarmee betere gezondheidszorg); anderzijds hangt vervuiling – en klimaatverandering – samen met slechtere gezondheid. WHO meldt dat luchtvervuiling wereldwijd een enorm gezondheidsrisico is (circa 99% van de mensen ademt verontreinigde lucht in, wat in 2019 bijdroeg aan 6,67 miljoen doden  \n",
    "[nature.com](https://www.nature.com/)  \n",
    "De WHO-definitie van gezonde levensverwachting (HALE) luidt: het ‘gemiddeld aantal jaren dat een persoon in volledige gezondheid kan leven’  \n",
    "[who.int](https://www.who.int/)  \n",
    "We leggen twee perspectieven naast elkaar: hoe weerspiegelt CO₂-uitstoot de algemene welvaart en levensverwachting, en in hoeverre leidt vervuiling juist tot gezondheidsverlies. Onderliggende datasets beslaan de jaren 2000, 2010, 2015, 2019 en 2021."
   ]
  }
 ],
 "metadata": {
  "kernelspec": {
   "display_name": "base",
   "language": "python",
   "name": "python3"
  },
  "language_info": {
   "codemirror_mode": {
    "name": "ipython",
    "version": 3
   },
   "file_extension": ".py",
   "mimetype": "text/x-python",
   "name": "python",
   "nbconvert_exporter": "python",
   "pygments_lexer": "ipython3",
   "version": "3.12.7"
  }
 },
 "nbformat": 4,
 "nbformat_minor": 5
}
